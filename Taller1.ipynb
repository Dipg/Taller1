{
 "cells": [
  {
   "cell_type": "markdown",
   "metadata": {},
   "source": [
    "# Taller 1"
   ]
  },
  {
   "cell_type": "markdown",
   "metadata": {},
   "source": [
    "El número de vendedores que emplea una comerciante de coches varía de cuatro, el valor más bajo, a\n",
    "ocho, el más alto. ¿Depende el número de nuevos coches vendidos y, del número de vendedores x? Para\n",
    "calcular esta cuestión, el gerente de ventas examinó los registros de las ventas para los últimos cuatro\n",
    "meses y localizó un período de ocho semanas durante el cual no se utilizaron programas de estímulos\n",
    "especiales. El número de coches vendidos semanalmente y, y el número de vendedores x, se muestran\n",
    "en la siguiente tabla.\n"
   ]
  }
 ],
 "metadata": {
  "kernelspec": {
   "display_name": "Python 3",
   "language": "python",
   "name": "python3"
  },
  "language_info": {
   "codemirror_mode": {
    "name": "ipython",
    "version": 3
   },
   "file_extension": ".py",
   "mimetype": "text/x-python",
   "name": "python",
   "nbconvert_exporter": "python",
   "pygments_lexer": "ipython3",
   "version": "3.8.3"
  }
 },
 "nbformat": 4,
 "nbformat_minor": 4
}
